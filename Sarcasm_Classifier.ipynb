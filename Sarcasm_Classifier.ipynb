{
  "nbformat": 4,
  "nbformat_minor": 0,
  "metadata": {
    "colab": {
      "name": "Sarcasm_Classifier.ipynb",
      "provenance": []
    },
    "kernelspec": {
      "name": "python3",
      "display_name": "Python 3"
    },
    "accelerator": "GPU"
  },
  "cells": [
    {
      "cell_type": "code",
      "metadata": {
        "id": "vftWOfOoZdDH",
        "colab_type": "code",
        "colab": {}
      },
      "source": [
        "import tensorflow as tf\n",
        "from tensorflow.keras.preprocessing.text import Tokenizer\n",
        "from tensorflow.keras.preprocessing.sequence import pad_sequences\n",
        "import json\n",
        "import numpy as np"
      ],
      "execution_count": 0,
      "outputs": []
    },
    {
      "cell_type": "code",
      "metadata": {
        "id": "uZswtQ1NZsDJ",
        "colab_type": "code",
        "colab": {
          "base_uri": "https://localhost:8080/",
          "height": 34
        },
        "outputId": "13382927-4bc4-4d70-a2b3-9a631e03cb98"
      },
      "source": [
        "cd \"/content/drive/My Drive/Colab Notebooks/Cousera NLP\""
      ],
      "execution_count": 4,
      "outputs": [
        {
          "output_type": "stream",
          "text": [
            "/content/drive/My Drive/Colab Notebooks/Cousera NLP\n"
          ],
          "name": "stdout"
        }
      ]
    },
    {
      "cell_type": "code",
      "metadata": {
        "id": "b7DCWzKeZvG_",
        "colab_type": "code",
        "colab": {
          "base_uri": "https://localhost:8080/",
          "height": 68
        },
        "outputId": "84d25ef1-f471-4ca9-ca4a-419076862413"
      },
      "source": [
        "ls"
      ],
      "execution_count": 5,
      "outputs": [
        {
          "output_type": "stream",
          "text": [
            " \u001b[0m\u001b[01;34mData\u001b[0m/                         'Sarcasm detector.ipynb'\n",
            " Embedding_IMDB.ipynb          'Tokenizer Indroduction.ipynb'\n",
            " Embedding_IMDB_Revised.ipynb   Untitled0.ipynb\n"
          ],
          "name": "stdout"
        }
      ]
    },
    {
      "cell_type": "code",
      "metadata": {
        "id": "1g35MwO2Zz94",
        "colab_type": "code",
        "colab": {}
      },
      "source": [
        "datastore= []\n",
        "for i in open('Data/Sarcasm_Headlines_Dataset.json', 'r'):\n",
        "  datastore.append(json.loads(i))"
      ],
      "execution_count": 0,
      "outputs": []
    },
    {
      "cell_type": "code",
      "metadata": {
        "id": "_67RQCx6aCbP",
        "colab_type": "code",
        "colab": {}
      },
      "source": [
        "sentences= []\n",
        "labels= []"
      ],
      "execution_count": 0,
      "outputs": []
    },
    {
      "cell_type": "code",
      "metadata": {
        "id": "j-XybYnhaU6l",
        "colab_type": "code",
        "colab": {
          "base_uri": "https://localhost:8080/",
          "height": 54
        },
        "outputId": "ccf4037a-b01a-4fe6-a96f-0093974a9a13"
      },
      "source": [
        "print(datastore[0])"
      ],
      "execution_count": 10,
      "outputs": [
        {
          "output_type": "stream",
          "text": [
            "{'article_link': 'https://www.huffingtonpost.com/entry/versace-black-code_us_5861fbefe4b0de3a08f600d5', 'headline': \"former versace store clerk sues over secret 'black code' for minority shoppers\", 'is_sarcastic': 0}\n"
          ],
          "name": "stdout"
        }
      ]
    },
    {
      "cell_type": "code",
      "metadata": {
        "id": "3axswVoeaI2y",
        "colab_type": "code",
        "colab": {}
      },
      "source": [
        "for i in datastore:\n",
        "  sentences.append(i['headline'])\n",
        "  labels.append(i['is_sarcastic'])"
      ],
      "execution_count": 0,
      "outputs": []
    },
    {
      "cell_type": "code",
      "metadata": {
        "id": "HBEBl3vAaakj",
        "colab_type": "code",
        "colab": {}
      },
      "source": [
        "# hyper parameters\n",
        "\n",
        "vocab_size = 10000\n",
        "max_len = 32\n",
        "trunc_type = 'post'\n",
        "oov_tok = \"<OOV>\"\n",
        "embedding_dim = 16\n",
        "padding_type = 'post'\n",
        "training_size = 20000"
      ],
      "execution_count": 0,
      "outputs": []
    },
    {
      "cell_type": "code",
      "metadata": {
        "id": "DeD1wzTubCWi",
        "colab_type": "code",
        "colab": {}
      },
      "source": [
        "training_sentences = sentences[0:training_size]\n",
        "training_labels = labels[0:training_size]\n",
        "testing_sentences = sentences[training_size:len(sentences)]\n",
        "testing_labels = labels[training_size:len(sentences)]"
      ],
      "execution_count": 0,
      "outputs": []
    },
    {
      "cell_type": "code",
      "metadata": {
        "id": "NRWeELmrc178",
        "colab_type": "code",
        "colab": {
          "base_uri": "https://localhost:8080/",
          "height": 34
        },
        "outputId": "c444e6d0-8d25-4fa8-cc58-55f0a54397de"
      },
      "source": [
        "print(len(testing_sentences))"
      ],
      "execution_count": 29,
      "outputs": [
        {
          "output_type": "stream",
          "text": [
            "6709\n"
          ],
          "name": "stdout"
        }
      ]
    },
    {
      "cell_type": "code",
      "metadata": {
        "id": "o32HjYipbZ0S",
        "colab_type": "code",
        "colab": {}
      },
      "source": [
        "tokenizer = Tokenizer(num_words= vocab_size, oov_token=oov_tok)"
      ],
      "execution_count": 0,
      "outputs": []
    },
    {
      "cell_type": "code",
      "metadata": {
        "id": "WlD-p-QEbnBF",
        "colab_type": "code",
        "colab": {}
      },
      "source": [
        "tokenizer.fit_on_texts(training_sentences)\n",
        "word_index= tokenizer.word_index"
      ],
      "execution_count": 0,
      "outputs": []
    },
    {
      "cell_type": "code",
      "metadata": {
        "id": "LvgDvlYRbs3h",
        "colab_type": "code",
        "colab": {}
      },
      "source": [
        "training_sequences = tokenizer.texts_to_sequences(training_sentences)\n",
        "training_padded= pad_sequences(training_sequences, maxlen= max_len, padding= padding_type, truncating= trunc_type)"
      ],
      "execution_count": 0,
      "outputs": []
    },
    {
      "cell_type": "code",
      "metadata": {
        "id": "6QJdxf8tcMGW",
        "colab_type": "code",
        "colab": {}
      },
      "source": [
        "testing_sequences = tokenizer.texts_to_sequences(testing_sentences)\n",
        "testing_padded = pad_sequences(testing_sequences, maxlen= max_len, padding= padding_type, truncating= trunc_type)"
      ],
      "execution_count": 0,
      "outputs": []
    },
    {
      "cell_type": "code",
      "metadata": {
        "id": "PwmcE_GJccnb",
        "colab_type": "code",
        "colab": {}
      },
      "source": [
        "model = tf.keras.Sequential([\n",
        "                             tf.keras.layers.Embedding(input_dim= vocab_size, output_dim= embedding_dim, input_length= max_len),\n",
        "                             tf.keras.layers.GlobalAveragePooling1D(),\n",
        "                             tf.keras.layers.Dense(24, activation='relu'),\n",
        "                             tf.keras.layers.Dense(1, activation='sigmoid')\n",
        "])"
      ],
      "execution_count": 0,
      "outputs": []
    },
    {
      "cell_type": "code",
      "metadata": {
        "id": "EWD2rNnUdtZS",
        "colab_type": "code",
        "colab": {}
      },
      "source": [
        "model.compile(loss= 'binary_crossentropy', optimizer= 'adam', metrics= ['accuracy'])"
      ],
      "execution_count": 0,
      "outputs": []
    },
    {
      "cell_type": "code",
      "metadata": {
        "id": "6F5a5YVod1IB",
        "colab_type": "code",
        "colab": {
          "base_uri": "https://localhost:8080/",
          "height": 289
        },
        "outputId": "70dbdfc8-7250-49ce-cbbf-0b75827c00f5"
      },
      "source": [
        "model.summary()"
      ],
      "execution_count": 36,
      "outputs": [
        {
          "output_type": "stream",
          "text": [
            "Model: \"sequential\"\n",
            "_________________________________________________________________\n",
            "Layer (type)                 Output Shape              Param #   \n",
            "=================================================================\n",
            "embedding (Embedding)        (None, 32, 16)            160000    \n",
            "_________________________________________________________________\n",
            "global_average_pooling1d (Gl (None, 16)                0         \n",
            "_________________________________________________________________\n",
            "dense (Dense)                (None, 24)                408       \n",
            "_________________________________________________________________\n",
            "dense_1 (Dense)              (None, 1)                 25        \n",
            "=================================================================\n",
            "Total params: 160,433\n",
            "Trainable params: 160,433\n",
            "Non-trainable params: 0\n",
            "_________________________________________________________________\n"
          ],
          "name": "stdout"
        }
      ]
    },
    {
      "cell_type": "code",
      "metadata": {
        "id": "lUjXyahZeVwH",
        "colab_type": "code",
        "colab": {}
      },
      "source": [
        "training_labels = np.array(training_labels)\n",
        "testing_labels = np.array(testing_labels)"
      ],
      "execution_count": 0,
      "outputs": []
    },
    {
      "cell_type": "code",
      "metadata": {
        "id": "_D6M0d6bd4Wj",
        "colab_type": "code",
        "colab": {
          "base_uri": "https://localhost:8080/",
          "height": 1000
        },
        "outputId": "9245b4db-a72e-4455-8358-2dcfc1c33814"
      },
      "source": [
        " num_epochs = 30\n",
        " history= model.fit(training_padded,training_labels,epochs= num_epochs, validation_data=(testing_padded,testing_labels), verbose=2)"
      ],
      "execution_count": 41,
      "outputs": [
        {
          "output_type": "stream",
          "text": [
            "Epoch 1/30\n",
            "625/625 - 3s - loss: 0.5423 - accuracy: 0.7262 - val_loss: 0.3917 - val_accuracy: 0.8234\n",
            "Epoch 2/30\n",
            "625/625 - 3s - loss: 0.2964 - accuracy: 0.8773 - val_loss: 0.3393 - val_accuracy: 0.8533\n",
            "Epoch 3/30\n",
            "625/625 - 3s - loss: 0.2211 - accuracy: 0.9136 - val_loss: 0.3504 - val_accuracy: 0.8504\n",
            "Epoch 4/30\n",
            "625/625 - 3s - loss: 0.1760 - accuracy: 0.9337 - val_loss: 0.3756 - val_accuracy: 0.8487\n",
            "Epoch 5/30\n",
            "625/625 - 3s - loss: 0.1468 - accuracy: 0.9460 - val_loss: 0.4063 - val_accuracy: 0.8477\n",
            "Epoch 6/30\n",
            "625/625 - 3s - loss: 0.1231 - accuracy: 0.9556 - val_loss: 0.4424 - val_accuracy: 0.8447\n",
            "Epoch 7/30\n",
            "625/625 - 3s - loss: 0.1043 - accuracy: 0.9643 - val_loss: 0.4923 - val_accuracy: 0.8366\n",
            "Epoch 8/30\n",
            "625/625 - 3s - loss: 0.0886 - accuracy: 0.9708 - val_loss: 0.5316 - val_accuracy: 0.8383\n",
            "Epoch 9/30\n",
            "625/625 - 3s - loss: 0.0753 - accuracy: 0.9761 - val_loss: 0.5858 - val_accuracy: 0.8311\n",
            "Epoch 10/30\n",
            "625/625 - 3s - loss: 0.0651 - accuracy: 0.9793 - val_loss: 0.6385 - val_accuracy: 0.8301\n",
            "Epoch 11/30\n",
            "625/625 - 3s - loss: 0.0573 - accuracy: 0.9820 - val_loss: 0.6917 - val_accuracy: 0.8265\n",
            "Epoch 12/30\n",
            "625/625 - 3s - loss: 0.0508 - accuracy: 0.9838 - val_loss: 0.7430 - val_accuracy: 0.8246\n",
            "Epoch 13/30\n",
            "625/625 - 3s - loss: 0.0431 - accuracy: 0.9875 - val_loss: 0.8035 - val_accuracy: 0.8213\n",
            "Epoch 14/30\n",
            "625/625 - 3s - loss: 0.0380 - accuracy: 0.9885 - val_loss: 0.8659 - val_accuracy: 0.8168\n",
            "Epoch 15/30\n",
            "625/625 - 3s - loss: 0.0337 - accuracy: 0.9900 - val_loss: 0.9142 - val_accuracy: 0.8173\n",
            "Epoch 16/30\n",
            "625/625 - 3s - loss: 0.0287 - accuracy: 0.9914 - val_loss: 0.9900 - val_accuracy: 0.8131\n",
            "Epoch 17/30\n",
            "625/625 - 3s - loss: 0.0274 - accuracy: 0.9919 - val_loss: 1.0536 - val_accuracy: 0.8132\n",
            "Epoch 18/30\n",
            "625/625 - 3s - loss: 0.0232 - accuracy: 0.9937 - val_loss: 1.1223 - val_accuracy: 0.8110\n",
            "Epoch 19/30\n",
            "625/625 - 3s - loss: 0.0204 - accuracy: 0.9944 - val_loss: 1.1980 - val_accuracy: 0.8067\n",
            "Epoch 20/30\n",
            "625/625 - 3s - loss: 0.0186 - accuracy: 0.9948 - val_loss: 1.2570 - val_accuracy: 0.8058\n",
            "Epoch 21/30\n",
            "625/625 - 3s - loss: 0.0186 - accuracy: 0.9946 - val_loss: 1.3003 - val_accuracy: 0.8070\n",
            "Epoch 22/30\n",
            "625/625 - 3s - loss: 0.0161 - accuracy: 0.9949 - val_loss: 1.3612 - val_accuracy: 0.8068\n",
            "Epoch 23/30\n",
            "625/625 - 3s - loss: 0.0143 - accuracy: 0.9959 - val_loss: 1.4556 - val_accuracy: 0.8041\n",
            "Epoch 24/30\n",
            "625/625 - 3s - loss: 0.0130 - accuracy: 0.9959 - val_loss: 1.5054 - val_accuracy: 0.8064\n",
            "Epoch 25/30\n",
            "625/625 - 3s - loss: 0.0117 - accuracy: 0.9965 - val_loss: 1.5650 - val_accuracy: 0.8050\n",
            "Epoch 26/30\n",
            "625/625 - 3s - loss: 0.0106 - accuracy: 0.9969 - val_loss: 1.6258 - val_accuracy: 0.8001\n",
            "Epoch 27/30\n",
            "625/625 - 3s - loss: 0.0099 - accuracy: 0.9969 - val_loss: 1.6840 - val_accuracy: 0.8041\n",
            "Epoch 28/30\n",
            "625/625 - 3s - loss: 0.0092 - accuracy: 0.9972 - val_loss: 1.7612 - val_accuracy: 0.8038\n",
            "Epoch 29/30\n",
            "625/625 - 3s - loss: 0.0100 - accuracy: 0.9966 - val_loss: 1.8313 - val_accuracy: 0.8009\n",
            "Epoch 30/30\n",
            "625/625 - 3s - loss: 0.0086 - accuracy: 0.9972 - val_loss: 1.8759 - val_accuracy: 0.8019\n"
          ],
          "name": "stdout"
        }
      ]
    },
    {
      "cell_type": "code",
      "metadata": {
        "id": "LTxAp4dBeOQR",
        "colab_type": "code",
        "colab": {}
      },
      "source": [
        ""
      ],
      "execution_count": 0,
      "outputs": []
    }
  ]
}